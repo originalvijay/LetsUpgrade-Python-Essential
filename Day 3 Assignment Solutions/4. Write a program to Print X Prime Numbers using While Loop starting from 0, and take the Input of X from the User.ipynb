{
 "cells": [
  {
   "cell_type": "markdown",
   "metadata": {},
   "source": [
    "# Write a program to Print X Prime Numbers using While Loop starting from 0, and take the Input of X from the User"
   ]
  },
  {
   "cell_type": "code",
   "execution_count": 2,
   "metadata": {},
   "outputs": [
    {
     "name": "stdout",
     "output_type": "stream",
     "text": [
      "Please Enter the Maximum Range for Printing Prime Numbers: 40\n",
      "Prime numbers between 0 to 40 is: \n",
      "1\n",
      "2\n",
      "3\n",
      "5\n",
      "7\n",
      "11\n",
      "13\n",
      "17\n",
      "19\n",
      "23\n",
      "29\n",
      "31\n",
      "37\n"
     ]
    }
   ],
   "source": [
    "max = int(input(\"Please Enter the Maximum Range for Printing Prime Numbers: \"))\n",
    "num = 1\n",
    "print (\"Prime numbers between 0 to\", max , \"is: \")\n",
    "print (num)\n",
    "while(num <= max):\n",
    "    count = 0\n",
    "    i = 2\n",
    "    \n",
    "    while(i <= num//2):\n",
    "        if(num % i == 0):\n",
    "            count = count + 1\n",
    "            break\n",
    "        i = i + 1\n",
    "\n",
    "    if (count == 0 and num != 1):\n",
    "        print ( num)\n",
    "    num = num  + 1"
   ]
  },
  {
   "cell_type": "code",
   "execution_count": null,
   "metadata": {},
   "outputs": [],
   "source": []
  }
 ],
 "metadata": {
  "kernelspec": {
   "display_name": "Python 3",
   "language": "python",
   "name": "python3"
  },
  "language_info": {
   "codemirror_mode": {
    "name": "ipython",
    "version": 3
   },
   "file_extension": ".py",
   "mimetype": "text/x-python",
   "name": "python",
   "nbconvert_exporter": "python",
   "pygments_lexer": "ipython3",
   "version": "3.8.3"
  }
 },
 "nbformat": 4,
 "nbformat_minor": 4
}
