{
 "cells": [
  {
   "cell_type": "markdown",
   "metadata": {},
   "source": [
    "# Use IF ELSE and ELIF to write a program in python for your Report Cards."
   ]
  },
  {
   "cell_type": "code",
   "execution_count": 18,
   "metadata": {},
   "outputs": [
    {
     "name": "stdout",
     "output_type": "stream",
     "text": [
      "Enter your marks : 72\n",
      "Grade--> B1\n"
     ]
    }
   ],
   "source": [
    "# Program for Report Card using IF ELSE and ELIF by getting User Input.\n",
    "marks = int(input(\"Enter your marks : \"))\n",
    "if marks>=91:\n",
    "    print(\"Grade--> A1\")\n",
    "elif marks >=81 and marks<=90:\n",
    "    print(\"Grade--> A2\")\n",
    "elif marks>=71 and marks<=80:\n",
    "    print(\"Grade--> B1\")\n",
    "elif marks >=61 and marks<=70:\n",
    "    print(\"Grade--> B2\")\n",
    "elif marks>=51 and marks<=60:\n",
    "    print(\"Grade--> c1\")    \n",
    "elif marks >=41 and marks<=50:\n",
    "    print(\"Grade--> C2\")\n",
    "elif marks>=33 and marks<=40:\n",
    "    print(\"Grade--> D\")\n",
    "else:\n",
    "    print(\"Failed\")"
   ]
  },
  {
   "cell_type": "code",
   "execution_count": null,
   "metadata": {},
   "outputs": [],
   "source": []
  }
 ],
 "metadata": {
  "kernelspec": {
   "display_name": "Python 3",
   "language": "python",
   "name": "python3"
  },
  "language_info": {
   "codemirror_mode": {
    "name": "ipython",
    "version": 3
   },
   "file_extension": ".py",
   "mimetype": "text/x-python",
   "name": "python",
   "nbconvert_exporter": "python",
   "pygments_lexer": "ipython3",
   "version": "3.8.3"
  }
 },
 "nbformat": 4,
 "nbformat_minor": 4
}
